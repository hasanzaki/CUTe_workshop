{
 "cells": [
  {
   "cell_type": "code",
   "execution_count": 1,
   "metadata": {},
   "outputs": [
    {
     "name": "stderr",
     "output_type": "stream",
     "text": [
      "Using TensorFlow backend.\n"
     ]
    }
   ],
   "source": [
    "import tensorflow as tf\n",
    "import numpy as np\n",
    "import matplotlib.pyplot as plt\n",
    "from keras.preprocessing.image import ImageDataGenerator\n",
    "import os\n",
    "import sys"
   ]
  },
  {
   "cell_type": "code",
   "execution_count": 2,
   "metadata": {},
   "outputs": [],
   "source": [
    "train_dir = r\"D:\\CODES\\code_tutorial_workshop\\CUTe_workshop-master\\clean-dataset/train\" #r for raw string\n",
    "validation_dir = r\"D:\\CODES\\code_tutorial_workshop\\CUTe_workshop-master\\clean-dataset/validation\"\n",
    "\n",
    "train_num = 0 # count no. of training data\n",
    "for r, d, files in os.walk(train_dir):\n",
    "    train_num +=len(files)\n",
    "    \n",
    "validation_num = 0 # count no. of testing data\n",
    "for r, d, files in os.walk(validation_dir):\n",
    "    validation_num +=len(files)\n",
    "    "
   ]
  },
  {
   "cell_type": "code",
   "execution_count": 3,
   "metadata": {},
   "outputs": [
    {
     "name": "stdout",
     "output_type": "stream",
     "text": [
      "Found 600 images belonging to 3 classes.\n",
      "Found 150 images belonging to 3 classes.\n"
     ]
    }
   ],
   "source": [
    "# use ImageDataGenerator class to load images and\n",
    "# flow_from_directory function to generate batches of images and labels\n",
    "\n",
    "datagen = ImageDataGenerator(rescale = 1./255)\n",
    "batchSize = 32 # 32 is a good starting point\n",
    "inputSize = 30\n",
    "\n",
    "train_generator = datagen.flow_from_directory(\n",
    "    train_dir, \n",
    "    target_size = (inputSize,inputSize),  \n",
    "    batch_size = batchSize,\n",
    "    class_mode = 'categorical', \n",
    "    shuffle = True)\n",
    "\n",
    "validation_generator = datagen.flow_from_directory(\n",
    "    validation_dir, \n",
    "    target_size = (inputSize,inputSize), \n",
    "    batch_size = batchSize,\n",
    "    class_mode = 'categorical', \n",
    "    shuffle = False)\n",
    "\n",
    "# initialize the image matrix and label\n",
    "train_features = np.zeros(shape=(train_num, 30,30,3))\n",
    "train_labels = np.zeros(shape=(train_num,3))\n",
    "\n",
    "# Gathering all training images in one matrix\n",
    "i = 0\n",
    "for inputs_batch, labels_batch in train_generator:\n",
    "    train_features[i * batchSize : (i + 1) * batchSize] = inputs_batch\n",
    "    train_labels[i * batchSize : (i + 1) * batchSize] = labels_batch\n",
    "    i += 1\n",
    "    if i * batchSize >= train_num:\n",
    "        break\n",
    "        \n",
    "train_features = np.reshape(train_features, (train_num, 30 * 30 * 3)) # flatten the image\n",
    "\n",
    "# do the same for testing images\n",
    "validation_features = np.zeros(shape=(validation_num, 30, 30, 3))\n",
    "validation_labels = np.zeros(shape=(validation_num,3))\n",
    "\n",
    "i = 0\n",
    "for inputs_batch, labels_batch in validation_generator:\n",
    "    validation_features[i * batchSize : (i + 1) * batchSize] = inputs_batch\n",
    "    validation_labels[i * batchSize : (i + 1) * batchSize] = labels_batch\n",
    "    i += 1\n",
    "    if i * batchSize >= validation_num:\n",
    "        break\n",
    "\n",
    "validation_features = np.reshape(validation_features, (validation_num, 30 * 30 * 3))\n",
    "\n"
   ]
  },
  {
   "cell_type": "code",
   "execution_count": 5,
   "metadata": {},
   "outputs": [
    {
     "name": "stdout",
     "output_type": "stream",
     "text": [
      "(600, 2700)\n",
      "(150, 2700)\n"
     ]
    }
   ],
   "source": [
    "print(train_features.shape)\n",
    "print(validation_features.shape)"
   ]
  },
  {
   "cell_type": "code",
   "execution_count": 6,
   "metadata": {},
   "outputs": [
    {
     "name": "stderr",
     "output_type": "stream",
     "text": [
      "WARNING: Logging before flag parsing goes to stderr.\n",
      "W0925 12:22:33.843594 14980 deprecation.py:506] From C:\\Users\\Hasan\\Anaconda3\\lib\\site-packages\\tensorflow\\python\\ops\\init_ops.py:1251: calling VarianceScaling.__init__ (from tensorflow.python.ops.init_ops) with dtype is deprecated and will be removed in a future version.\n",
      "Instructions for updating:\n",
      "Call initializer instance with the dtype argument instead of passing it to the constructor\n"
     ]
    }
   ],
   "source": [
    "model = tf.keras.Sequential()\n",
    "model.add(tf.keras.layers.Dense(2048, activation = tf.nn.relu, input_shape=(inputSize*inputSize*3,)))\n",
    "model.add(tf.keras.layers.Dropout(0.5))\n",
    "model.add(tf.keras.layers.Dense(1024, activation = tf.nn.relu))\n",
    "model.add(tf.keras.layers.Dropout(0.5))\n",
    "model.add(tf.keras.layers.Dense(512, activation = tf.nn.relu))\n",
    "model.add(tf.keras.layers.Dense(3, activation = tf.nn.softmax))"
   ]
  },
  {
   "cell_type": "code",
   "execution_count": 7,
   "metadata": {},
   "outputs": [
    {
     "name": "stdout",
     "output_type": "stream",
     "text": [
      "Train on 600 samples, validate on 150 samples\n",
      "Epoch 1/3\n",
      "600/600 [==============================] - ETA: 0s - loss: 1.2425 - acc: 0.331 - 2s 3ms/sample - loss: 1.2434 - acc: 0.3283 - val_loss: 1.0901 - val_acc: 0.3667\n",
      "Epoch 2/3\n",
      "600/600 [==============================] - 1s 2ms/sample - loss: 1.1770 - acc: 0.3450 - val_loss: 1.0723 - val_acc: 0.4333\n",
      "Epoch 3/3\n",
      "600/600 [==============================] - 1s 2ms/sample - loss: 1.1503 - acc: 0.3550 - val_loss: 1.0460 - val_acc: 0.4133\n"
     ]
    }
   ],
   "source": [
    "# import sys\n",
    "# !conda install pillow\n",
    "# images,labels = next(train_generator)\n",
    "# print(labels.shape)\n",
    "# plt.imshow(images[0])\n",
    "# plt.show\n",
    "\n",
    "model.compile(optimizer=tf.keras.optimizers.SGD(lr=0.0001, decay=1e-6,momentum=0.9,nesterov=True),\n",
    "             loss = 'categorical_crossentropy', metrics=['accuracy'])\n",
    "\n",
    "history = model.fit(train_features,\n",
    "                    train_labels,\n",
    "                    epochs=3,\n",
    "                    batch_size=batchSize,\n",
    "                    validation_data=(validation_features,validation_labels))"
   ]
  },
  {
   "cell_type": "code",
   "execution_count": 8,
   "metadata": {},
   "outputs": [
    {
     "name": "stdout",
     "output_type": "stream",
     "text": [
      "150/150 [==============================] - 0s 520us/sample - loss: 1.0460 - acc: 0.4133\n",
      "1.0460378694534302 0.41333333\n"
     ]
    }
   ],
   "source": [
    "test_loss, test_acc = model.evaluate(validation_features,validation_labels)\n",
    "print(test_loss, test_acc)"
   ]
  },
  {
   "cell_type": "code",
   "execution_count": 9,
   "metadata": {},
   "outputs": [
    {
     "data": {
      "text/plain": [
       "Text(0.5, 1.0, 'Accuracy Curves')"
      ]
     },
     "execution_count": 9,
     "metadata": {},
     "output_type": "execute_result"
    },
    {
     "data": {
      "image/png": "[encoded data removed]",
      "text/plain": [
       "<Figure size 576x432 with 1 Axes>"
      ]
     },
     "metadata": {
      "needs_background": "light"
     },
     "output_type": "display_data"
    },
    {
     "data": {
      "image/png": "[encoded data removed]",
      "text/plain": [
       "<Figure size 576x432 with 1 Axes>"
      ]
     },
     "metadata": {
      "needs_background": "light"
     },
     "output_type": "display_data"
    }
   ],
   "source": [
    "#Plot the Loss Curves\n",
    "plt.figure(figsize=[8,6])\n",
    "plt.plot(history.history['loss'],'r',linewidth=3.0)\n",
    "plt.plot(history.history['val_loss'],'b',linewidth=3.0)\n",
    "plt.legend(['Training loss', 'Validation Loss'],fontsize=18)\n",
    "plt.xlabel('Epochs ',fontsize=16)\n",
    "plt.ylabel('Loss',fontsize=16)\n",
    "plt.title('Loss Curves',fontsize=16)\n",
    " \n",
    "#Plot the Accuracy Curves\n",
    "plt.figure(figsize=[8,6])\n",
    "plt.plot(history.history['acc'],'r',linewidth=3.0)\n",
    "plt.plot(history.history['val_acc'],'b',linewidth=3.0)\n",
    "plt.legend(['Training Accuracy', 'Validation Accuracy'],fontsize=18)\n",
    "plt.xlabel('Epochs ',fontsize=16)\n",
    "plt.ylabel('Accuracy',fontsize=16)\n",
    "plt.title('Accuracy Curves',fontsize=16)"
   ]
  },
  {
   "cell_type": "code",
   "execution_count": 10,
   "metadata": {},
   "outputs": [
    {
     "name": "stderr",
     "output_type": "stream",
     "text": [
      "W0925 12:22:59.259052 14980 deprecation.py:506] From C:\\Users\\Hasan\\Anaconda3\\lib\\site-packages\\tensorflow\\python\\ops\\init_ops.py:97: calling GlorotUniform.__init__ (from tensorflow.python.ops.init_ops) with dtype is deprecated and will be removed in a future version.\n",
      "Instructions for updating:\n",
      "Call initializer instance with the dtype argument instead of passing it to the constructor\n",
      "W0925 12:22:59.260072 14980 deprecation.py:506] From C:\\Users\\Hasan\\Anaconda3\\lib\\site-packages\\tensorflow\\python\\ops\\init_ops.py:97: calling Zeros.__init__ (from tensorflow.python.ops.init_ops) with dtype is deprecated and will be removed in a future version.\n",
      "Instructions for updating:\n",
      "Call initializer instance with the dtype argument instead of passing it to the constructor\n"
     ]
    }
   ],
   "source": [
    "model.save('fullyConnected_owndata.h5')\n",
    "new_model = tf.keras.models.load_model('fullyConnected_owndata.h5')\n"
   ]
  },
  {
   "cell_type": "code",
   "execution_count": null,
   "metadata": {},
   "outputs": [],
   "source": [
    "import cv2\n",
    "# from PIL import Image\n",
    "video = cv2.VideoCapture(0)\n",
    "\n",
    "while True:\n",
    "\n",
    "    __,frame = video.read()\n",
    "       \n",
    "#     im = cv2.resize(frame,(30,30))\n",
    "#     im = im.reshape(30*30*3)\n",
    "#     im = tf.keras.utils.normalize(im)\n",
    "# #     img_array = np.array(im)\n",
    "#     predictions = new_model.predict(im)\n",
    "#     label = np.argmax(predictions)\n",
    "    \n",
    "#     if label == 0: \n",
    "#          label = 'pumpkin'\n",
    "#     elif label == 1: \n",
    "#          label = 'tomato'\n",
    "#     elif label == 2: \n",
    "#          label = 'watermelon'\n",
    "#     # Display the predictions\n",
    "#     cv2.putText(frame, \"Label: {}\".format(label), (10, 30), cv2.FONT_HERSHEY_SIMPLEX, 0.9, (0, 255, 0), 2)\n",
    "#     cv2.imshow(\"Classification\", frame)\n",
    "    if cv2.waitKey(1) & 0xFF == ord('q'):\n",
    "          break\n",
    "\n",
    "video.release()\n",
    "cv2.destroyAllWindows() "
   ]
  },
  {
   "cell_type": "code",
   "execution_count": null,
   "metadata": {},
   "outputs": [],
   "source": []
  },
  {
   "cell_type": "code",
   "execution_count": null,
   "metadata": {},
   "outputs": [],
   "source": []
  }
 ],
 "metadata": {
  "kernelspec": {
   "display_name": "Python 3",
   "language": "python",
   "name": "python3"
  },
  "language_info": {
   "codemirror_mode": {
    "name": "ipython",
    "version": 3
   },
   "file_extension": ".py",
   "mimetype": "text/x-python",
   "name": "python",
   "nbconvert_exporter": "python",
   "pygments_lexer": "ipython3",
   "version": "3.7.3"
  }
 },
 "nbformat": 4,
 "nbformat_minor": 2
}
