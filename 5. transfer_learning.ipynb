{
 "cells": [
  {
   "cell_type": "code",
   "execution_count": 76,
   "metadata": {},
   "outputs": [],
   "source": [
    "import tensorflow as tf\n",
    "import keras\n",
    "import numpy as np\n",
    "import matplotlib.pyplot as plt\n",
    "# from __future__ import print_function\n",
    "from keras.utils import to_categorical\n",
    "import os\n",
    "from keras.preprocessing.image import ImageDataGenerator, load_img"
   ]
  },
  {
   "cell_type": "code",
   "execution_count": 77,
   "metadata": {},
   "outputs": [],
   "source": [
    "from keras.applications import VGG16\n",
    "from keras.models import Model\n",
    "\n",
    "# vgg_conv = VGG16(weights='imagenet',\n",
    "#                   include_top=False,\n",
    "#                   input_shape=(224, 224, 3))\n",
    "\n",
    "vgg_conv = VGG16(weights='imagenet',\n",
    "                  include_top=True,\n",
    "                  input_shape=(224, 224, 3))\n",
    "vgg_conv = Model(inputs=vgg_conv.input, outputs=vgg_conv.get_layer('fc1').output)\n"
   ]
  },
  {
   "cell_type": "code",
   "execution_count": 78,
   "metadata": {},
   "outputs": [
    {
     "name": "stdout",
     "output_type": "stream",
     "text": [
      "_________________________________________________________________\n",
      "Layer (type)                 Output Shape              Param #   \n",
      "=================================================================\n",
      "input_9 (InputLayer)         (None, 224, 224, 3)       0         \n",
      "_________________________________________________________________\n",
      "block1_conv1 (Conv2D)        (None, 224, 224, 64)      1792      \n",
      "_________________________________________________________________\n",
      "block1_conv2 (Conv2D)        (None, 224, 224, 64)      36928     \n",
      "_________________________________________________________________\n",
      "block1_pool (MaxPooling2D)   (None, 112, 112, 64)      0         \n",
      "_________________________________________________________________\n",
      "block2_conv1 (Conv2D)        (None, 112, 112, 128)     73856     \n",
      "_________________________________________________________________\n",
      "block2_conv2 (Conv2D)        (None, 112, 112, 128)     147584    \n",
      "_________________________________________________________________\n",
      "block2_pool (MaxPooling2D)   (None, 56, 56, 128)       0         \n",
      "_________________________________________________________________\n",
      "block3_conv1 (Conv2D)        (None, 56, 56, 256)       295168    \n",
      "_________________________________________________________________\n",
      "block3_conv2 (Conv2D)        (None, 56, 56, 256)       590080    \n",
      "_________________________________________________________________\n",
      "block3_conv3 (Conv2D)        (None, 56, 56, 256)       590080    \n",
      "_________________________________________________________________\n",
      "block3_pool (MaxPooling2D)   (None, 28, 28, 256)       0         \n",
      "_________________________________________________________________\n",
      "block4_conv1 (Conv2D)        (None, 28, 28, 512)       1180160   \n",
      "_________________________________________________________________\n",
      "block4_conv2 (Conv2D)        (None, 28, 28, 512)       2359808   \n",
      "_________________________________________________________________\n",
      "block4_conv3 (Conv2D)        (None, 28, 28, 512)       2359808   \n",
      "_________________________________________________________________\n",
      "block4_pool (MaxPooling2D)   (None, 14, 14, 512)       0         \n",
      "_________________________________________________________________\n",
      "block5_conv1 (Conv2D)        (None, 14, 14, 512)       2359808   \n",
      "_________________________________________________________________\n",
      "block5_conv2 (Conv2D)        (None, 14, 14, 512)       2359808   \n",
      "_________________________________________________________________\n",
      "block5_conv3 (Conv2D)        (None, 14, 14, 512)       2359808   \n",
      "_________________________________________________________________\n",
      "block5_pool (MaxPooling2D)   (None, 7, 7, 512)         0         \n",
      "_________________________________________________________________\n",
      "flatten (Flatten)            (None, 25088)             0         \n",
      "_________________________________________________________________\n",
      "fc1 (Dense)                  (None, 4096)              102764544 \n",
      "=================================================================\n",
      "Total params: 117,479,232\n",
      "Trainable params: 117,479,232\n",
      "Non-trainable params: 0\n",
      "_________________________________________________________________\n"
     ]
    }
   ],
   "source": [
    "vgg_conv.summary()"
   ]
  },
  {
   "cell_type": "code",
   "execution_count": 79,
   "metadata": {},
   "outputs": [],
   "source": [
    "train_dir = r\"C:/Users/Hasan/Desktop/code/tutorial_deeplearning/clean-dataset/train\" #r for raw string\n",
    "validation_dir = r\"C:/Users/Hasan/Desktop/code/tutorial_deeplearning/clean-dataset/validation\"\n",
    "\n",
    "train_num = 0 # count no. of training data\n",
    "for r, d, files in os.walk(train_dir):\n",
    "    train_num +=len(files)\n",
    "    \n",
    "validation_num = 0 # count no. of testing data\n",
    "for r, d, files in os.walk(validation_dir):\n",
    "    validation_num +=len(files)"
   ]
  },
  {
   "cell_type": "code",
   "execution_count": 80,
   "metadata": {},
   "outputs": [
    {
     "name": "stdout",
     "output_type": "stream",
     "text": [
      "Found 600 images belonging to 3 classes.\n"
     ]
    }
   ],
   "source": [
    "from keras.applications import vgg16\n",
    "\n",
    "datagen = ImageDataGenerator()\n",
    "batchSize = 32 # 32 is a good starting point\n",
    "inputSize = 224\n",
    "\n",
    "train_generator = datagen.flow_from_directory(\n",
    "    train_dir, \n",
    "    target_size = (inputSize,inputSize),  \n",
    "    batch_size = batchSize,\n",
    "    class_mode = 'categorical', \n",
    "    shuffle = True)\n",
    "\n",
    "train_features = np.zeros(shape=(train_num, 4096))\n",
    "train_labels = np.zeros(shape=(train_num,3))\n",
    "\n",
    "i = 0\n",
    "for inputs_batch, labels_batch in train_generator:\n",
    "    inputs_batch = vgg16.preprocess_input(inputs_batch.copy())\n",
    "    features_batch = vgg_conv.predict(inputs_batch)\n",
    "    train_features[i * batch_size : (i + 1) * batch_size] = features_batch\n",
    "    train_labels[i * batch_size : (i + 1) * batch_size] = labels_batch\n",
    "    i += 1\n",
    "    if i * batch_size >= train_num:\n",
    "        break\n",
    "        \n",
    "# train_features = np.reshape(train_features, (nTrain, 7 * 7 * 512))"
   ]
  },
  {
   "cell_type": "code",
   "execution_count": 81,
   "metadata": {},
   "outputs": [
    {
     "data": {
      "text/plain": [
       "(600, 4096)"
      ]
     },
     "execution_count": 81,
     "metadata": {},
     "output_type": "execute_result"
    }
   ],
   "source": [
    "train_features.shape"
   ]
  },
  {
   "cell_type": "code",
   "execution_count": 82,
   "metadata": {},
   "outputs": [
    {
     "name": "stdout",
     "output_type": "stream",
     "text": [
      "Found 150 images belonging to 3 classes.\n"
     ]
    }
   ],
   "source": [
    "validation_generator = datagen.flow_from_directory(\n",
    "    validation_dir, \n",
    "    target_size = (inputSize,inputSize), \n",
    "    batch_size = batchSize,\n",
    "    class_mode = 'categorical', \n",
    "    shuffle = False)\n",
    "\n",
    "validation_features = np.zeros(shape=(validation_num, 4096))\n",
    "validation_labels = np.zeros(shape=(validation_num,3))\n",
    "\n",
    "i = 0\n",
    "for inputs_batch, labels_batch in validation_generator:\n",
    "#     inputs_batch = vgg16.preprocess_input(inputs_batch.copy())\n",
    "    features_batch = vgg_conv.predict(inputs_batch)\n",
    "    validation_features[i * batch_size : (i + 1) * batch_size] = features_batch\n",
    "    validation_labels[i * batch_size : (i + 1) * batch_size] = labels_batch\n",
    "    i += 1\n",
    "    if i * batch_size >= validation_num:\n",
    "        break"
   ]
  },
  {
   "cell_type": "code",
   "execution_count": 83,
   "metadata": {},
   "outputs": [],
   "source": [
    "from keras import models\n",
    "from keras import layers\n",
    " \n",
    "model = models.Sequential()\n",
    "model.add(layers.Dense(256, activation='relu', input_dim=4096))\n",
    "model.add(layers.Dropout(0.5))\n",
    "model.add(layers.Dense(3, activation='softmax'))"
   ]
  },
  {
   "cell_type": "code",
   "execution_count": 84,
   "metadata": {},
   "outputs": [
    {
     "name": "stdout",
     "output_type": "stream",
     "text": [
      "_________________________________________________________________\n",
      "Layer (type)                 Output Shape              Param #   \n",
      "=================================================================\n",
      "dense_17 (Dense)             (None, 256)               1048832   \n",
      "_________________________________________________________________\n",
      "dropout_9 (Dropout)          (None, 256)               0         \n",
      "_________________________________________________________________\n",
      "dense_18 (Dense)             (None, 3)                 771       \n",
      "=================================================================\n",
      "Total params: 1,049,603\n",
      "Trainable params: 1,049,603\n",
      "Non-trainable params: 0\n",
      "_________________________________________________________________\n"
     ]
    }
   ],
   "source": [
    "model.summary()"
   ]
  },
  {
   "cell_type": "code",
   "execution_count": 85,
   "metadata": {},
   "outputs": [
    {
     "name": "stdout",
     "output_type": "stream",
     "text": [
      "Train on 600 samples, validate on 150 samples\n",
      "Epoch 1/20\n",
      "600/600 [==============================] - 2s 3ms/step - loss: 5.2164 - acc: 0.4683 - val_loss: 3.8599 - val_acc: 0.4667\n",
      "Epoch 2/20\n",
      "600/600 [==============================] - 0s 526us/step - loss: 4.0407 - acc: 0.5550 - val_loss: 2.4016 - val_acc: 0.5400\n",
      "Epoch 3/20\n",
      "600/600 [==============================] - 0s 525us/step - loss: 2.6390 - acc: 0.6733 - val_loss: 1.7622 - val_acc: 0.5933\n",
      "Epoch 4/20\n",
      "600/600 [==============================] - 0s 516us/step - loss: 2.0907 - acc: 0.7283 - val_loss: 1.4392 - val_acc: 0.6467\n",
      "Epoch 5/20\n",
      "600/600 [==============================] - 0s 521us/step - loss: 1.4324 - acc: 0.7800 - val_loss: 1.2494 - val_acc: 0.7000\n",
      "Epoch 6/20\n",
      "600/600 [==============================] - 0s 525us/step - loss: 1.0797 - acc: 0.8367 - val_loss: 1.1720 - val_acc: 0.7200\n",
      "Epoch 7/20\n",
      "600/600 [==============================] - 0s 535us/step - loss: 0.8654 - acc: 0.8550 - val_loss: 1.1177 - val_acc: 0.7200\n",
      "Epoch 8/20\n",
      "600/600 [==============================] - 0s 520us/step - loss: 0.7571 - acc: 0.8733 - val_loss: 1.1095 - val_acc: 0.7267\n",
      "Epoch 9/20\n",
      "600/600 [==============================] - 0s 513us/step - loss: 0.8263 - acc: 0.8500 - val_loss: 1.0536 - val_acc: 0.7467\n",
      "Epoch 10/20\n",
      "600/600 [==============================] - 0s 530us/step - loss: 0.6287 - acc: 0.8817 - val_loss: 1.0511 - val_acc: 0.7667\n",
      "Epoch 11/20\n",
      "600/600 [==============================] - 0s 520us/step - loss: 0.4524 - acc: 0.9150 - val_loss: 1.1098 - val_acc: 0.7800\n",
      "Epoch 12/20\n",
      "600/600 [==============================] - 0s 522us/step - loss: 0.5455 - acc: 0.9117 - val_loss: 1.0903 - val_acc: 0.7800\n",
      "Epoch 13/20\n",
      "600/600 [==============================] - 0s 523us/step - loss: 0.3361 - acc: 0.9283 - val_loss: 1.0846 - val_acc: 0.7733\n",
      "Epoch 14/20\n",
      "600/600 [==============================] - 0s 533us/step - loss: 0.3709 - acc: 0.9217 - val_loss: 1.0081 - val_acc: 0.7800\n",
      "Epoch 15/20\n",
      "600/600 [==============================] - 0s 545us/step - loss: 0.4085 - acc: 0.9083 - val_loss: 0.9883 - val_acc: 0.7800\n",
      "Epoch 16/20\n",
      "600/600 [==============================] - 0s 545us/step - loss: 0.4110 - acc: 0.9267 - val_loss: 0.9990 - val_acc: 0.7800\n",
      "Epoch 17/20\n",
      "600/600 [==============================] - 0s 528us/step - loss: 0.3214 - acc: 0.9350 - val_loss: 0.9830 - val_acc: 0.7800\n",
      "Epoch 18/20\n",
      "600/600 [==============================] - 0s 525us/step - loss: 0.3454 - acc: 0.9317 - val_loss: 0.9884 - val_acc: 0.7867\n",
      "Epoch 19/20\n",
      "600/600 [==============================] - 0s 526us/step - loss: 0.2893 - acc: 0.9433 - val_loss: 0.9861 - val_acc: 0.7867\n",
      "Epoch 20/20\n",
      "600/600 [==============================] - 0s 533us/step - loss: 0.3068 - acc: 0.9233 - val_loss: 0.9473 - val_acc: 0.8067\n"
     ]
    }
   ],
   "source": [
    "from keras import optimizers\n",
    "\n",
    "model.compile(optimizer=optimizers.SGD(lr=1e-5, decay=1e-6,momentum=0.9,nesterov=True),\n",
    "             loss = 'categorical_crossentropy', metrics=['accuracy'])\n",
    "\n",
    "history = model.fit(train_features,\n",
    "                    train_labels,\n",
    "                    epochs=20,\n",
    "                    batch_size=batchSize,\n",
    "                    validation_data=(validation_features,validation_labels))"
   ]
  },
  {
   "cell_type": "code",
   "execution_count": 86,
   "metadata": {},
   "outputs": [
    {
     "name": "stdout",
     "output_type": "stream",
     "text": [
      "150/150 [==============================] - 0s 187us/step\n",
      "0.9472906282544136 0.8066666642824809\n"
     ]
    }
   ],
   "source": [
    "test_loss, test_acc = model.evaluate(validation_features,validation_labels)\n",
    "print(test_loss, test_acc)"
   ]
  },
  {
   "cell_type": "code",
   "execution_count": 87,
   "metadata": {},
   "outputs": [
    {
     "data": {
      "text/plain": [
       "Text(0.5, 1.0, 'Accuracy Curves')"
      ]
     },
     "execution_count": 87,
     "metadata": {},
     "output_type": "execute_result"
    },
    {
     "data": {
      "image/png": "[encoded data removed]",
      "text/plain": [
       "<Figure size 576x432 with 1 Axes>"
      ]
     },
     "metadata": {
      "needs_background": "light"
     },
     "output_type": "display_data"
    },
    {
     "data": {
      "image/png": "[encoded data removed]",
      "text/plain": [
       "<Figure size 576x432 with 1 Axes>"
      ]
     },
     "metadata": {
      "needs_background": "light"
     },
     "output_type": "display_data"
    }
   ],
   "source": [
    "#Plot the Loss Curves\n",
    "plt.figure(figsize=[8,6])\n",
    "plt.plot(history.history['loss'],'r',linewidth=3.0)\n",
    "plt.plot(history.history['val_loss'],'b',linewidth=3.0)\n",
    "plt.legend(['Training loss', 'Validation Loss'],fontsize=18)\n",
    "plt.xlabel('Epochs ',fontsize=16)\n",
    "plt.ylabel('Loss',fontsize=16)\n",
    "plt.title('Loss Curves',fontsize=16)\n",
    " \n",
    "#Plot the Accuracy Curves\n",
    "plt.figure(figsize=[8,6])\n",
    "plt.plot(history.history['acc'],'r',linewidth=3.0)\n",
    "plt.plot(history.history['val_acc'],'b',linewidth=3.0)\n",
    "plt.legend(['Training Accuracy', 'Validation Accuracy'],fontsize=18)\n",
    "plt.xlabel('Epochs ',fontsize=16)\n",
    "plt.ylabel('Accuracy',fontsize=16)\n",
    "plt.title('Accuracy Curves',fontsize=16)"
   ]
  },
  {
   "cell_type": "code",
   "execution_count": 88,
   "metadata": {},
   "outputs": [],
   "source": [
    "model.save('transfer_learning.h5')\n",
    "new_model = tf.keras.models.load_model('transfer_learning.h5')"
   ]
  },
  {
   "cell_type": "code",
   "execution_count": 89,
   "metadata": {},
   "outputs": [],
   "source": [
    "# import cv2\n",
    "# # from PIL import Image\n",
    "# video = cv2.VideoCapture(0)\n",
    "\n",
    "# while True:\n",
    "\n",
    "#     __,frame = video.read()\n",
    "       \n",
    "#     im = cv2.resize(frame,(30,30))\n",
    "#     im = im.reshape(30*30*3)\n",
    "#     im = tf.keras.utils.normalize(im)\n",
    "# #     img_array = np.array(im)\n",
    "#     predictions = new_model.predict(im)\n",
    "#     label = np.argmax(predictions)\n",
    "    \n",
    "#     if label == 0: \n",
    "#          label = 'pumpkin'\n",
    "#     elif label == 1: \n",
    "#          label = 'tomato'\n",
    "#     elif label == 2: \n",
    "#          label = 'watermelon'\n",
    "#     # Display the predictions\n",
    "#     cv2.putText(frame, \"Label: {}\".format(label), (10, 30), cv2.FONT_HERSHEY_SIMPLEX, 0.9, (0, 255, 0), 2)\n",
    "#     cv2.imshow(\"Classification\", frame)\n",
    "#     if cv2.waitKey(1) & 0xFF == ord('q'):\n",
    "#           break\n",
    "\n",
    "# video.release()\n",
    "# cv2.destroyAllWindows() "
   ]
  }
 ],
 "metadata": {
  "kernelspec": {
   "display_name": "Python [conda env:hasan] *",
   "language": "python",
   "name": "conda-env-hasan-py"
  },
  "language_info": {
   "codemirror_mode": {
    "name": "ipython",
    "version": 3
   },
   "file_extension": ".py",
   "mimetype": "text/x-python",
   "name": "python",
   "nbconvert_exporter": "python",
   "pygments_lexer": "ipython3",
   "version": "3.7.3"
  }
 },
 "nbformat": 4,
 "nbformat_minor": 2
}
